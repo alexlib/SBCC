{
 "cells": [
  {
   "cell_type": "code",
   "execution_count": 1,
   "id": "ebecc9d6-2bcd-4e2c-9d46-048b8a6d6aee",
   "metadata": {},
   "outputs": [
    {
     "ename": "ModuleNotFoundError",
     "evalue": "No module named 'utils'",
     "output_type": "error",
     "traceback": [
      "\u001b[0;31m---------------------------------------------------------------------------\u001b[0m",
      "\u001b[0;31mModuleNotFoundError\u001b[0m                       Traceback (most recent call last)",
      "Cell \u001b[0;32mIn[1], line 6\u001b[0m\n\u001b[1;32m      3\u001b[0m \u001b[38;5;28;01mimport\u001b[39;00m \u001b[38;5;21;01mcv2\u001b[39;00m\n\u001b[1;32m      4\u001b[0m \u001b[38;5;28;01mimport\u001b[39;00m \u001b[38;5;21;01mmatplotlib\u001b[39;00m\u001b[38;5;21;01m.\u001b[39;00m\u001b[38;5;21;01mpyplot\u001b[39;00m \u001b[38;5;28;01mas\u001b[39;00m \u001b[38;5;21;01mplt\u001b[39;00m\n\u001b[0;32m----> 6\u001b[0m \u001b[38;5;28;01mfrom\u001b[39;00m \u001b[38;5;21;01mutils\u001b[39;00m\u001b[38;5;21;01m.\u001b[39;00m\u001b[38;5;21;01mwin\u001b[39;00m \u001b[38;5;28;01mimport\u001b[39;00m grid_window\n\u001b[1;32m      7\u001b[0m \u001b[38;5;28;01mfrom\u001b[39;00m \u001b[38;5;21;01mutils\u001b[39;00m\u001b[38;5;21;01m.\u001b[39;00m\u001b[38;5;21;01mcc\u001b[39;00m \u001b[38;5;28;01mimport\u001b[39;00m scc, rpc, spof, sbcc\n\u001b[1;32m      8\u001b[0m \u001b[38;5;28;01mfrom\u001b[39;00m \u001b[38;5;21;01mutils\u001b[39;00m\u001b[38;5;21;01m.\u001b[39;00m\u001b[38;5;21;01mccmap\u001b[39;00m \u001b[38;5;28;01mimport\u001b[39;00m centroid, parabolic, gaussian, argmax2d\n",
      "\u001b[0;31mModuleNotFoundError\u001b[0m: No module named 'utils'"
     ]
    }
   ],
   "source": [
    "import numpy as np\n",
    "from scipy import ndimage\n",
    "import cv2\n",
    "import matplotlib.pyplot as plt\n",
    "\n",
    "from utils.win import grid_window\n",
    "from utils.cc import scc, rpc, spof, sbcc\n",
    "from utils.ccmap import centroid, parabolic, gaussian, argmax2d\n",
    "from utils.warping import sparse2dense, warp"
   ]
  },
  {
   "cell_type": "code",
   "execution_count": null,
   "id": "096e1365-eed4-4379-a4cb-0ceafcc3b0e5",
   "metadata": {},
   "outputs": [],
   "source": [
    "def preprocessing(win):\n",
    "    win=win- np.mean(win, axis=(0,1), keepdims=True) +1e-3\n",
    "    win=win/(np.linalg.norm(win, axis=(0,1), keepdims=True)+1e-8)\n",
    "    return win\n",
    "\n",
    "eps = 1e-9\n",
    "step_sz = [16,16]\n",
    "win_sz = [32,32]\n",
    "img1 = cv2.imread(\"./data/vp1a.tif\", 0)\n",
    "img2 = cv2.imread(\"./data/vp1b.tif\", 0)\n",
    "\n",
    "win1, posi, shape = grid_window(image=img1,step_sz=step_sz,win_sz=win_sz)\n",
    "win2, _, _ = grid_window(image=img2,step_sz=step_sz,win_sz=win_sz)\n",
    "# win1 = preprocessing(win1)\n",
    "# win2 = preprocessing(win2)\n",
    "\n",
    "r_map = scc(win1, win2)\n",
    "r_map = np.maximum(r_map, 1e-3)\n",
    "\n",
    "ind2d, vmax_x, vmax_y = argmax2d(r_map)\n",
    "print(vmax_x[:,512:514])\n",
    "print(np.min(vmax_x))\n",
    "\n",
    "subx, suby = gaussian(vmax_x), gaussian(vmax_y)\n",
    "sub = np.stack([subx, suby], axis=0)\n",
    "\n",
    "# change the max_ind to velocity vectors 2*B  \n",
    "# vec = ind2d+sub-np.array(win_sz).reshape(-1,1)/2 # substract the winsize/2\n",
    "vec = ind2d+sub\n",
    "\n",
    "# plt.hist(sub)\n",
    "# print(sub)\n",
    "\n",
    "# reshape for plot\n",
    "u, v = np.split(vec,2,axis=0)\n",
    "u, v = u.reshape(shape), v.reshape(shape)\n",
    "x, y = np.split(posi,2,axis=0)\n",
    "x, y = x.reshape(shape), y.reshape(shape)\n",
    "\n",
    "plt.figure()\n",
    "plt.imshow(img1)\n",
    "plt.quiver(y,x,v,-u) # Due to the bug (invert axis, but doesn't invert the vector direction!)\n",
    "\n",
    "plt.figure()\n",
    "plt.quiver(x,y,u,v) # Without any modification\n",
    "plt.show()"
   ]
  }
 ],
 "metadata": {
  "kernelspec": {
   "display_name": "Python 3 (ipykernel)",
   "language": "python",
   "name": "python3"
  },
  "language_info": {
   "codemirror_mode": {
    "name": "ipython",
    "version": 3
   },
   "file_extension": ".py",
   "mimetype": "text/x-python",
   "name": "python",
   "nbconvert_exporter": "python",
   "pygments_lexer": "ipython3",
   "version": "3.8.18"
  }
 },
 "nbformat": 4,
 "nbformat_minor": 5
}
